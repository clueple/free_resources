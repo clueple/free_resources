{
 "cells": [
  {
   "cell_type": "code",
   "execution_count": 2,
   "id": "7b89a828-4234-4073-b1e7-8faca609e41f",
   "metadata": {},
   "outputs": [],
   "source": [
    "import pandas as pd \n",
    "# import streamlit as st \n",
    "import os \n",
    "# import streamlit as st \n",
    "\n",
    "#\"\"\" Data Source   \"\"\"\n",
    "#web location for csv file, 'df.csv'\n",
    "data_src = r'https://raw.githubusercontent.com/clueple/free_resources/master/df.csv'\n",
    "# data_src = r'https://github.com/clueple/free_resources/blob/master/df.csv'\n",
    "\n",
    "#web location for csv file, 'dfc.csv'\n",
    "data_src1 = r'https://raw.githubusercontent.com/clueple/free_resources/master/dfc.csv'\n",
    "# data_src1 = r'https://github.com/clueple/free_resources/blob/master/dfc.csv'\n"
   ]
  },
  {
   "cell_type": "code",
   "execution_count": 58,
   "id": "6cdc2e73-fbd5-49c1-addd-588fba3d150a",
   "metadata": {},
   "outputs": [],
   "source": [
    "class data:\n",
    "    def __init__(self):\n",
    "        self.src = src\n",
    "    @classmethod\n",
    "    def get_data(cls, src):\n",
    "        return pd.read_csv(src, index_col=False)\n",
    "    \n",
    "    # @classmethod\n",
    "    # def check_col(cls,src, unwant_col):\n",
    "    #     check_col = src.columns.str.contains(unwant_col).any()\n",
    "    #     return int(check_col)    \n",
    "    \n",
    "    @classmethod\n",
    "    def get_col(cls, src, unwant_col):\n",
    "        if src.columns.str.contains(unwant_col).any() == 1:\n",
    "            return src.drop(unwant_col, axis=1).columns\n",
    "        else:\n",
    "            return src.columns"
   ]
  },
  {
   "cell_type": "code",
   "execution_count": 56,
   "id": "59a7b533-a9f9-47e4-8446-f1c28e0411e0",
   "metadata": {},
   "outputs": [],
   "source": [
    "df = data.get_data(src = data_src)\n",
    "dfc = data.get_data(src = data_src1)\n",
    "unwant_text = 'Unnamed: 0'"
   ]
  },
  {
   "cell_type": "code",
   "execution_count": 62,
   "id": "770d876d-4c55-4cb1-b28d-f320a3f524cb",
   "metadata": {},
   "outputs": [
    {
     "ename": "AttributeError",
     "evalue": "type object 'data' has no attribute 'check_col'",
     "output_type": "error",
     "traceback": [
      "\u001b[1;31m---------------------------------------------------------------------------\u001b[0m",
      "\u001b[1;31mAttributeError\u001b[0m                            Traceback (most recent call last)",
      "\u001b[1;32m~\\AppData\\Local\\Temp/ipykernel_1384/1860225227.py\u001b[0m in \u001b[0;36m<module>\u001b[1;34m\u001b[0m\n\u001b[1;32m----> 1\u001b[1;33m \u001b[0mcheck_df\u001b[0m \u001b[1;33m=\u001b[0m \u001b[0mdata\u001b[0m\u001b[1;33m.\u001b[0m\u001b[0mcheck_col\u001b[0m\u001b[1;33m(\u001b[0m\u001b[0msrc\u001b[0m \u001b[1;33m=\u001b[0m \u001b[0mdf\u001b[0m\u001b[1;33m,\u001b[0m \u001b[0munwant_col\u001b[0m \u001b[1;33m=\u001b[0m \u001b[0munwant_text\u001b[0m\u001b[1;33m)\u001b[0m\u001b[1;33m\u001b[0m\u001b[1;33m\u001b[0m\u001b[0m\n\u001b[0m\u001b[0;32m      2\u001b[0m \u001b[0mcheck_df\u001b[0m\u001b[1;33m\u001b[0m\u001b[1;33m\u001b[0m\u001b[0m\n",
      "\u001b[1;31mAttributeError\u001b[0m: type object 'data' has no attribute 'check_col'"
     ]
    }
   ],
   "source": [
    "check_df = data.check_col(src = df, unwant_col = unwant_text)\n",
    "check_df"
   ]
  },
  {
   "cell_type": "code",
   "execution_count": 61,
   "id": "3027f94e-911a-40b1-8ca4-133a19c94db5",
   "metadata": {},
   "outputs": [
    {
     "ename": "AttributeError",
     "evalue": "type object 'data' has no attribute 'check_col'",
     "output_type": "error",
     "traceback": [
      "\u001b[1;31m---------------------------------------------------------------------------\u001b[0m",
      "\u001b[1;31mAttributeError\u001b[0m                            Traceback (most recent call last)",
      "\u001b[1;32m~\\AppData\\Local\\Temp/ipykernel_1384/1412819656.py\u001b[0m in \u001b[0;36m<module>\u001b[1;34m\u001b[0m\n\u001b[1;32m----> 1\u001b[1;33m \u001b[0mcheck_dfc\u001b[0m \u001b[1;33m=\u001b[0m \u001b[0mdata\u001b[0m\u001b[1;33m.\u001b[0m\u001b[0mcheck_col\u001b[0m\u001b[1;33m(\u001b[0m\u001b[0msrc\u001b[0m \u001b[1;33m=\u001b[0m \u001b[0mdfc\u001b[0m\u001b[1;33m,\u001b[0m \u001b[0munwant_col\u001b[0m \u001b[1;33m=\u001b[0m \u001b[0munwant_text\u001b[0m\u001b[1;33m)\u001b[0m\u001b[1;33m\u001b[0m\u001b[1;33m\u001b[0m\u001b[0m\n\u001b[0m\u001b[0;32m      2\u001b[0m \u001b[0mcheck_dfc\u001b[0m\u001b[1;33m\u001b[0m\u001b[1;33m\u001b[0m\u001b[0m\n",
      "\u001b[1;31mAttributeError\u001b[0m: type object 'data' has no attribute 'check_col'"
     ]
    }
   ],
   "source": [
    "check_dfc = data.check_col(src = dfc, unwant_col = unwant_text)\n",
    "check_dfc"
   ]
  },
  {
   "cell_type": "code",
   "execution_count": 59,
   "id": "3d5dea20-b727-4a16-a2a7-2f45885b663f",
   "metadata": {},
   "outputs": [
    {
     "data": {
      "text/plain": [
       "Index(['col1', 'col2', 'col3'], dtype='object')"
      ]
     },
     "execution_count": 59,
     "metadata": {},
     "output_type": "execute_result"
    }
   ],
   "source": [
    "result_df = data.get_col(src = df, unwant_col = unwant_text)\n",
    "result_df"
   ]
  },
  {
   "cell_type": "code",
   "execution_count": 60,
   "id": "8ff86459-b126-4c49-b1dd-7f025754d841",
   "metadata": {},
   "outputs": [
    {
     "data": {
      "text/plain": [
       "Index(['col1', 'col2', 'col3'], dtype='object')"
      ]
     },
     "execution_count": 60,
     "metadata": {},
     "output_type": "execute_result"
    }
   ],
   "source": [
    "result_dfc = data.get_col(src = dfc, unwant_col = unwant_text)\n",
    "result_dfc"
   ]
  },
  {
   "cell_type": "code",
   "execution_count": null,
   "id": "67f262b1-35a4-4e3c-9840-8518ad5fef79",
   "metadata": {},
   "outputs": [],
   "source": []
  }
 ],
 "metadata": {
  "kernelspec": {
   "display_name": "Python 3 (ipykernel)",
   "language": "python",
   "name": "python3"
  },
  "language_info": {
   "codemirror_mode": {
    "name": "ipython",
    "version": 3
   },
   "file_extension": ".py",
   "mimetype": "text/x-python",
   "name": "python",
   "nbconvert_exporter": "python",
   "pygments_lexer": "ipython3",
   "version": "3.9.7"
  }
 },
 "nbformat": 4,
 "nbformat_minor": 5
}
